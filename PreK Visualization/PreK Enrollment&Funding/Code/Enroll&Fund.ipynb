{
 "cells": [
  {
   "cell_type": "code",
   "execution_count": 2,
   "metadata": {},
   "outputs": [],
   "source": [
    "# Codes for extraction\n",
    "import PyPDF2\n",
    "import os\n",
    "path = \"/Users/qilinzhou/Desktop/PreK Enrollment&Funding/Data\"\n",
    "os.chdir(path)\n",
    "\n",
    "def extract_pages_with_keywords(pdf_path, keywords, output_path):\n",
    "    \"\"\"\n",
    "    Extracts pages from a PDF that contain specific keywords.\n",
    "\n",
    "    :param pdf_path: Path to the source PDF file.\n",
    "    :param keywords: List of keywords to search for.\n",
    "    :param output_path: Path to the output PDF file.\n",
    "    \"\"\"\n",
    "    with open(pdf_path, 'rb') as file:\n",
    "        reader = PyPDF2.PdfReader(file)\n",
    "        writer = PyPDF2.PdfWriter()\n",
    "        keywords_found_count = 0\n",
    "        for page_number in range(len(reader.pages)):\n",
    "            page = reader.pages[page_number]\n",
    "            text = page.extract_text()\n",
    "            if text and any(keyword in text for keyword in keywords):\n",
    "                keywords_found_count +=1\n",
    "                writer.add_page(page)\n",
    "            if keywords_found_count == 2:\n",
    "                break\n",
    "\n",
    "        if len(writer.pages) > 0:\n",
    "            with open(output_path, 'wb') as output_file:\n",
    "                writer.write(output_file)\n",
    "        else:\n",
    "            print(\"No pages found with the given keywords.\")\n"
   ]
  },
  {
   "cell_type": "code",
   "execution_count": null,
   "metadata": {},
   "outputs": [],
   "source": [
    "keywords = [\n",
    "    \"TABLE 2\", # Enrollment\n",
    "    \"TABLE 7\" # Funding and Quality\n",
    "]\n",
    "# Iterate over the range of years\n",
    "for year in range(2009, 2015): \n",
    "    pdf_path = f'{year}yearbook.pdf'  # Construct the input file path\n",
    "    output_path = f'{year}_enroll_fund.pdf'  # Construct the output file path\n",
    "    extract_pages_with_keywords(pdf_path, keywords, output_path)"
   ]
  },
  {
   "cell_type": "code",
   "execution_count": 8,
   "metadata": {},
   "outputs": [],
   "source": [
    "keywords = [\n",
    "    'TABLE 2: PRE-K ACCESS BY STATE',\n",
    "    'TABLE 2: STATE PRESCHOOL ACCESS BY STATE',\n",
    "    'TABLE 6: PRE-K RESOURCES PER CHILD ENROLLED BY STATE',\n",
    "    'TABLE 6: PRESCHOOL RESOURCES PER CHILD ENROLLED BY STATE'\n",
    "]\n",
    "\n",
    "for year in range(2015, 2021): \n",
    "    pdf_path = f'{year}yearbook.pdf'  # Construct the input file path\n",
    "    output_path = f'{year}_enroll_fund.pdf'  # Construct the output file path\n",
    "    extract_pages_with_keywords(pdf_path, keywords, output_path)"
   ]
  },
  {
   "cell_type": "code",
   "execution_count": 3,
   "metadata": {},
   "outputs": [],
   "source": [
    "# To store 2007-2020_enroll_fund.csv to mysql\n",
    "import csv\n",
    "\n",
    "# Input CSV file name\n",
    "input_csv_file = '2007_2020_enroll_fund.csv'\n",
    "\n",
    "# Output CSV file name with UTF-8 encoding\n",
    "output_csv_file = '2007-2020_enroll_fund.csv'\n",
    "\n",
    "# Open the input CSV file with the appropriate encoding (e.g., 'utf-8-sig' for CSV files with a BOM)\n",
    "with open(input_csv_file, 'r', encoding='utf-8-sig') as file:\n",
    "    # Read the CSV data\n",
    "    csv_reader = csv.reader(file)\n",
    "    data = [row for row in csv_reader]\n",
    "\n",
    "# Open the output CSV file with UTF-8 encoding\n",
    "with open(output_csv_file, 'w', newline='', encoding='utf-8') as file:\n",
    "    # Write the data back to the new CSV file with UTF-8 encoding\n",
    "    csv_writer = csv.writer(file)\n",
    "    csv_writer.writerows(data)"
   ]
  }
 ],
 "metadata": {
  "kernelspec": {
   "display_name": "Python 3",
   "language": "python",
   "name": "python3"
  },
  "language_info": {
   "codemirror_mode": {
    "name": "ipython",
    "version": 3
   },
   "file_extension": ".py",
   "mimetype": "text/x-python",
   "name": "python",
   "nbconvert_exporter": "python",
   "pygments_lexer": "ipython3",
   "version": "3.11.6"
  }
 },
 "nbformat": 4,
 "nbformat_minor": 2
}
