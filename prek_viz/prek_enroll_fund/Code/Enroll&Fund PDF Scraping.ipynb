{
 "cells": [
  {
   "cell_type": "code",
   "execution_count": 2,
   "metadata": {},
   "outputs": [],
   "source": [
    "# Codes for extraction\n",
    "import PyPDF2\n",
    "import os\n",
    "from pathlib import Path\n",
    "from pdf_scraper import extract_pages_with_keywords\n",
    "\n",
    "current_dir = Path(__file__).parent # Assume \"../prek_enroll_fund/Code\"\n",
    "os.chdir(str(current_dir.parent / 'pdfs')) # Assume there is a folder for fund pdfs\n",
    "\n",
    "def extract_pages_with_keywords(pdf_path, keywords, output_path):\n",
    "    \"\"\"\n",
    "    Extracts pages from a PDF that contain specific keywords.\n",
    "\n",
    "    :param pdf_path: Path to the source PDF file.\n",
    "    :param keywords: List of keywords to search for.\n",
    "    :param output_path: Path to the output PDF file.\n",
    "    \"\"\"\n",
    "    with open(pdf_path, 'rb') as file:\n",
    "        reader = PyPDF2.PdfReader(file)\n",
    "        writer = PyPDF2.PdfWriter()\n",
    "        keywords_found_count = 0\n",
    "        for page_number in range(len(reader.pages)):\n",
    "            page = reader.pages[page_number]\n",
    "            text = page.extract_text()\n",
    "            if text and any(keyword in text for keyword in keywords):\n",
    "                keywords_found_count +=1\n",
    "                writer.add_page(page)\n",
    "            if keywords_found_count == 2:\n",
    "                break\n",
    "\n",
    "        if len(writer.pages) > 0:\n",
    "            with open(output_path, 'wb') as output_file:\n",
    "                writer.write(output_file)\n",
    "        else:\n",
    "            print(\"No pages found with the given keywords.\")\n"
   ]
  },
  {
   "cell_type": "code",
   "execution_count": null,
   "metadata": {},
   "outputs": [],
   "source": [
    "keywords = [\n",
    "    \"TABLE 2\", # Enrollment\n",
    "    \"TABLE 7\" # Funding and Quality\n",
    "]\n",
    "# Iterate over the range of years\n",
    "for year in range(2009, 2015): \n",
    "    pdf_path = f'{year}yearbook.pdf'  # Construct the input file path\n",
    "    output_path = f'{year}_enroll_fund.pdf'  # Construct the output file path\n",
    "    extract_pages_with_keywords(pdf_path, keywords, output_path)"
   ]
  },
  {
   "cell_type": "code",
   "execution_count": 8,
   "metadata": {},
   "outputs": [],
   "source": [
    "keywords = [\n",
    "    'TABLE 2: PRE-K ACCESS BY STATE',\n",
    "    'TABLE 2: STATE PRESCHOOL ACCESS BY STATE',\n",
    "    'TABLE 6: PRE-K RESOURCES PER CHILD ENROLLED BY STATE',\n",
    "    'TABLE 6: PRESCHOOL RESOURCES PER CHILD ENROLLED BY STATE'\n",
    "]\n",
    "\n",
    "for year in range(2015, 2021): \n",
    "    pdf_path = f'{year}yearbook.pdf'  # Construct the input file path\n",
    "    output_path = f'{year}_enroll_fund.pdf'  # Construct the output file path\n",
    "    extract_pages_with_keywords(pdf_path, keywords, output_path)"
   ]
  }
 ],
 "metadata": {
  "kernelspec": {
   "display_name": "Python 3",
   "language": "python",
   "name": "python3"
  },
  "language_info": {
   "codemirror_mode": {
    "name": "ipython",
    "version": 3
   },
   "file_extension": ".py",
   "mimetype": "text/x-python",
   "name": "python",
   "nbconvert_exporter": "python",
   "pygments_lexer": "ipython3",
   "version": "3.11.6"
  }
 },
 "nbformat": 4,
 "nbformat_minor": 2
}
